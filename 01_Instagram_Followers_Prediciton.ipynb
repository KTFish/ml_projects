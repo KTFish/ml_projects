{
 "cells": [
  {
   "cell_type": "markdown",
   "id": "80a3a527",
   "metadata": {},
   "source": [
    "# Project 1 - Prediction of Instagram Followers\n",
    "\n",
    "Creation of a conda environment an adding it to Jupyter Notebook.\n",
    "<div class=\"alert alert-block alert-success\" style=\"font-family: monospace\">\n",
    "conda create --name ml<br>\n",
    "conda activate ml<br>\n",
    "conda install -c anaconda ipykernel<br>\n",
    "python -m ipykernel install --user --name=ml<br>\n",
    "</div>"
   ]
  },
  {
   "cell_type": "code",
   "execution_count": null,
   "id": "f6e9942f",
   "metadata": {},
   "outputs": [],
   "source": [
    "import pandas as pd\n",
    "import numpy as np\n",
    "\n",
    "import seaborn as sns\n",
    "import matplotlib.pyplot as plt\n",
    "\n",
    "import tensorflow as tf"
   ]
  },
  {
   "cell_type": "markdown",
   "id": "9c65777e",
   "metadata": {},
   "source": [
    "# Data"
   ]
  },
  {
   "cell_type": "code",
   "execution_count": null,
   "id": "f59d2242",
   "metadata": {},
   "outputs": [],
   "source": [
    "# 01_Instagram_Followers_Prediciton"
   ]
  }
 ],
 "metadata": {
  "kernelspec": {
   "display_name": "gen2",
   "language": "python",
   "name": "gen2"
  }
 },
 "nbformat": 4,
 "nbformat_minor": 5
}
