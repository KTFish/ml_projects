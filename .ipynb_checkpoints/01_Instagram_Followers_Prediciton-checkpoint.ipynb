{
 "cells": [
  {
   "cell_type": "markdown",
   "id": "80a3a527",
   "metadata": {},
   "source": [
    "# Project 1 - Prediction of Instagram Followers\n",
    "\n",
    "Creation of a conda environment an adding it to Jupyter Notebook.\n",
    "<div class=\"alert alert-block alert-success\" style=\"font-family: monospace\">\n",
    "conda create --name ml<br>\n",
    "conda activate ml<br>\n",
    "conda install -c anaconda ipykernel<br>\n",
    "python -m ipykernel install --user --name=ml<br>\n",
    "</div>"
   ]
  },
  {
   "cell_type": "code",
   "execution_count": 1,
   "id": "f6e9942f",
   "metadata": {},
   "outputs": [],
   "source": [
    "import pandas as pd\n",
    "import numpy as np\n",
    "\n",
    "import seaborn as sns\n",
    "import matplotlib.pyplot as plt\n",
    "\n",
    "# import tensorflow as tf"
   ]
  },
  {
   "cell_type": "markdown",
   "id": "9c65777e",
   "metadata": {},
   "source": [
    "# Data\n",
    "Source: https://www.kaggle.com/datasets/iabdulw/dynamics-of-instagram-users\n",
    "\n",
    "### About Dataset\n",
    "These two data sets are gathered from Instagram users who were chosen randomly.\n",
    "\n",
    "The Main data set encompasses data for 1K users including 500 men and 500 women. The Test data set encompasses data for 100 users including 50 men and 50 women.\n",
    "\n",
    "Data gathered for each user includes :\n",
    "\n",
    "- 1- number of posts\n",
    "\n",
    "- 2- number of followers\n",
    "\n",
    "- 3- number of followings\n",
    "\n",
    "- 4- number of likes for the tenth previous post\n",
    "\n",
    "- 5- number of likes for the eleventh previous post\n",
    "\n",
    "- 6- number of likes for the twelfth previous post\n",
    "\n",
    "- 7- number of self-presenting posts from nine previous posts\n",
    "\n",
    "- 8- gender\n",
    "\n",
    "source: https://zenodo.org/record/823283"
   ]
  },
  {
   "cell_type": "markdown",
   "id": "3456fcb6",
   "metadata": {},
   "source": [
    "### Exploring the data"
   ]
  },
  {
   "cell_type": "code",
   "execution_count": 2,
   "id": "357e8981",
   "metadata": {},
   "outputs": [],
   "source": [
    "train = pd.read_excel('./data/MainDataset- Instagram.xlsx')\n",
    "test = pd.read_excel('./data/TestDataset-Instagram.xlsx')"
   ]
  },
  {
   "cell_type": "code",
   "execution_count": 4,
   "id": "f59d2242",
   "metadata": {},
   "outputs": [
    {
     "data": {
      "text/html": [
       "<div>\n",
       "<style scoped>\n",
       "    .dataframe tbody tr th:only-of-type {\n",
       "        vertical-align: middle;\n",
       "    }\n",
       "\n",
       "    .dataframe tbody tr th {\n",
       "        vertical-align: top;\n",
       "    }\n",
       "\n",
       "    .dataframe thead th {\n",
       "        text-align: right;\n",
       "    }\n",
       "</style>\n",
       "<table border=\"1\" class=\"dataframe\">\n",
       "  <thead>\n",
       "    <tr style=\"text-align: right;\">\n",
       "      <th></th>\n",
       "      <th>Users</th>\n",
       "      <th>Number of Posts</th>\n",
       "      <th>Number of Followers</th>\n",
       "      <th>Number of Followings</th>\n",
       "      <th>Number of Likes for the Tenth Previous Post</th>\n",
       "      <th>Number of Likes for the Eleventh Previous Post</th>\n",
       "      <th>Number of Likes for the Twelfth Previous Post</th>\n",
       "      <th>Number of Self-Presenting Posts from Nine Previous Posts</th>\n",
       "      <th>Gender</th>\n",
       "    </tr>\n",
       "  </thead>\n",
       "  <tbody>\n",
       "    <tr>\n",
       "      <th>0</th>\n",
       "      <td>User-1</td>\n",
       "      <td>486</td>\n",
       "      <td>279</td>\n",
       "      <td>19</td>\n",
       "      <td>15</td>\n",
       "      <td>10</td>\n",
       "      <td>17</td>\n",
       "      <td>0</td>\n",
       "      <td>m</td>\n",
       "    </tr>\n",
       "    <tr>\n",
       "      <th>1</th>\n",
       "      <td>User-2</td>\n",
       "      <td>401</td>\n",
       "      <td>5509</td>\n",
       "      <td>342</td>\n",
       "      <td>360</td>\n",
       "      <td>440</td>\n",
       "      <td>428</td>\n",
       "      <td>0</td>\n",
       "      <td>f</td>\n",
       "    </tr>\n",
       "    <tr>\n",
       "      <th>2</th>\n",
       "      <td>User-3</td>\n",
       "      <td>463</td>\n",
       "      <td>453</td>\n",
       "      <td>293</td>\n",
       "      <td>65</td>\n",
       "      <td>68</td>\n",
       "      <td>149</td>\n",
       "      <td>4</td>\n",
       "      <td>f</td>\n",
       "    </tr>\n",
       "  </tbody>\n",
       "</table>\n",
       "</div>"
      ],
      "text/plain": [
       "    Users  Number of Posts  Number of Followers  Number of Followings  \\\n",
       "0  User-1              486                  279                    19   \n",
       "1  User-2              401                 5509                   342   \n",
       "2  User-3              463                  453                   293   \n",
       "\n",
       "   Number of Likes for the Tenth Previous Post  \\\n",
       "0                                           15   \n",
       "1                                          360   \n",
       "2                                           65   \n",
       "\n",
       "   Number of Likes for the Eleventh Previous Post  \\\n",
       "0                                              10   \n",
       "1                                             440   \n",
       "2                                              68   \n",
       "\n",
       "   Number of Likes for the Twelfth Previous Post  \\\n",
       "0                                             17   \n",
       "1                                            428   \n",
       "2                                            149   \n",
       "\n",
       "   Number of Self-Presenting Posts from Nine Previous Posts  Gender  \n",
       "0                                                  0              m  \n",
       "1                                                  0              f  \n",
       "2                                                  4              f  "
      ]
     },
     "execution_count": 4,
     "metadata": {},
     "output_type": "execute_result"
    }
   ],
   "source": [
    "train.head(3)"
   ]
  },
  {
   "cell_type": "code",
   "execution_count": 5,
   "id": "f4471b91",
   "metadata": {},
   "outputs": [],
   "source": [
    "train.rename({' Gender':'Gender'}, axis=1, inplace=True)"
   ]
  },
  {
   "cell_type": "code",
   "execution_count": 6,
   "id": "957c573d",
   "metadata": {},
   "outputs": [],
   "source": [
    "# train.columns"
   ]
  },
  {
   "cell_type": "code",
   "execution_count": 7,
   "id": "0f5ad6f7",
   "metadata": {},
   "outputs": [
    {
     "name": "stdout",
     "output_type": "stream",
     "text": [
      "<class 'pandas.core.frame.DataFrame'>\n",
      "RangeIndex: 1000 entries, 0 to 999\n",
      "Data columns (total 9 columns):\n",
      " #   Column                                                    Non-Null Count  Dtype \n",
      "---  ------                                                    --------------  ----- \n",
      " 0   Users                                                     1000 non-null   object\n",
      " 1   Number of Posts                                           1000 non-null   int64 \n",
      " 2   Number of Followers                                       1000 non-null   int64 \n",
      " 3   Number of Followings                                      1000 non-null   int64 \n",
      " 4   Number of Likes for the Tenth Previous Post               1000 non-null   int64 \n",
      " 5   Number of Likes for the Eleventh Previous Post            1000 non-null   int64 \n",
      " 6   Number of Likes for the Twelfth Previous Post             1000 non-null   int64 \n",
      " 7   Number of Self-Presenting Posts from Nine Previous Posts  1000 non-null   int64 \n",
      " 8   Gender                                                    1000 non-null   object\n",
      "dtypes: int64(7), object(2)\n",
      "memory usage: 70.4+ KB\n"
     ]
    }
   ],
   "source": [
    "train.info()"
   ]
  },
  {
   "cell_type": "code",
   "execution_count": 8,
   "id": "11c53b92",
   "metadata": {
    "scrolled": true
   },
   "outputs": [
    {
     "data": {
      "text/plain": [
       "<Axes: xlabel='Gender', ylabel='Number of Followers'>"
      ]
     },
     "execution_count": 8,
     "metadata": {},
     "output_type": "execute_result"
    },
    {
     "data": {
      "image/png": "[encoded data removed]",
      "text/plain": [
       "<Figure size 640x480 with 1 Axes>"
      ]
     },
     "metadata": {},
     "output_type": "display_data"
    }
   ],
   "source": [
    "sns.barplot(x='Gender', y='Number of Followers', data=train)"
   ]
  },
  {
   "cell_type": "code",
   "execution_count": 9,
   "id": "05443642",
   "metadata": {},
   "outputs": [
    {
     "data": {
      "text/plain": [
       "<Axes: xlabel='Gender', ylabel='Number of Posts'>"
      ]
     },
     "execution_count": 9,
     "metadata": {},
     "output_type": "execute_result"
    },
    {
     "data": {
      "image/png": "[encoded data removed]",
      "text/plain": [
       "<Figure size 640x480 with 1 Axes>"
      ]
     },
     "metadata": {},
     "output_type": "display_data"
    }
   ],
   "source": [
    "sns.barplot(x='Gender', y='Number of Posts', data=train)"
   ]
  },
  {
   "cell_type": "code",
   "execution_count": 10,
   "id": "bd468258",
   "metadata": {},
   "outputs": [
    {
     "data": {
      "text/plain": [
       "<Axes: xlabel='Gender', ylabel='Number of Likes for the Twelfth Previous Post'>"
      ]
     },
     "execution_count": 10,
     "metadata": {},
     "output_type": "execute_result"
    },
    {
     "data": {
      "image/png": "[encoded data removed]",
      "text/plain": [
       "<Figure size 640x480 with 1 Axes>"
      ]
     },
     "metadata": {},
     "output_type": "display_data"
    }
   ],
   "source": [
    "sns.barplot(x='Gender', y='Number of Likes for the Twelfth Previous Post', data=train)"
   ]
  },
  {
   "cell_type": "markdown",
   "id": "780987d8",
   "metadata": {},
   "source": [
    "On the first look we can see that the number of followers is **very simmilar for each sex**, however **females tend to share more posts**."
   ]
  },
  {
   "cell_type": "markdown",
   "id": "bd9bfc04",
   "metadata": {},
   "source": [
    "### Preparation for learning\n",
    "The data is already cleaned, there are no missing values (thanks to Kaggle). What we need to do now is to drop columns that want be helfull during the traiuning and the column for labels. More over, we will encode the ``Gender`` column. To achive this I will use the `make_column_transformer` method."
   ]
  },
  {
   "cell_type": "code",
   "execution_count": 11,
   "id": "83053bca",
   "metadata": {},
   "outputs": [],
   "source": [
    "from sklearn.preprocessing import OrdinalEncoder\n",
    "from sklearn.pipeline import Pipeline\n",
    "from sklearn.preprocessing import StandardScaler\n",
    "from sklearn.compose import ColumnTransformer\n",
    "\n",
    "other_cols = ['Number of Posts', 'Number of Followers',\n",
    "              'Number of Followings',\n",
    "              'Number of Likes for the Tenth Previous Post',\n",
    "              'Number of Likes for the Eleventh Previous Post',\n",
    "              'Number of Likes for the Twelfth Previous Post',\n",
    "              'Number of Self-Presenting Posts from Nine Previous Posts']"
   ]
  },
  {
   "cell_type": "code",
   "execution_count": 18,
   "id": "970e8e5b",
   "metadata": {},
   "outputs": [
    {
     "ename": "TypeError",
     "evalue": "Last step of Pipeline should implement fit or be the string 'passthrough'. '{' Gender': 'Gender'}' (type <class 'dict'>) doesn't",
     "output_type": "error",
     "traceback": [
      "\u001b[1;31m---------------------------------------------------------------------------\u001b[0m",
      "\u001b[1;31mTypeError\u001b[0m                                 Traceback (most recent call last)",
      "Cell \u001b[1;32mIn[18], line 16\u001b[0m\n\u001b[0;32m      8\u001b[0m \u001b[38;5;66;03m# Define the pipeline\u001b[39;00m\n\u001b[0;32m      9\u001b[0m full_pipeline \u001b[38;5;241m=\u001b[39m Pipeline([\n\u001b[0;32m     10\u001b[0m     (\u001b[38;5;124m'\u001b[39m\u001b[38;5;124mtransform\u001b[39m\u001b[38;5;124m'\u001b[39m, trans),\n\u001b[0;32m     11\u001b[0m     (\u001b[38;5;124m'\u001b[39m\u001b[38;5;124mrename\u001b[39m\u001b[38;5;124m'\u001b[39m, {\u001b[38;5;124m'\u001b[39m\u001b[38;5;124m Gender\u001b[39m\u001b[38;5;124m'\u001b[39m: \u001b[38;5;124m'\u001b[39m\u001b[38;5;124mGender\u001b[39m\u001b[38;5;124m'\u001b[39m})\n\u001b[0;32m     12\u001b[0m ])\n\u001b[1;32m---> 16\u001b[0m x_train \u001b[38;5;241m=\u001b[39m \u001b[43mfull_pipeline\u001b[49m\u001b[38;5;241;43m.\u001b[39;49m\u001b[43mfit_transform\u001b[49m\u001b[43m(\u001b[49m\u001b[43mtrain\u001b[49m\u001b[43m)\u001b[49m\n\u001b[0;32m     17\u001b[0m x_test \u001b[38;5;241m=\u001b[39m full_pipeline\u001b[38;5;241m.\u001b[39mfit_transform(test)\n",
      "File \u001b[1;32m~\\anaconda3\\envs\\ml\\lib\\site-packages\\sklearn\\pipeline.py:437\u001b[0m, in \u001b[0;36mPipeline.fit_transform\u001b[1;34m(self, X, y, **fit_params)\u001b[0m\n\u001b[0;32m    410\u001b[0m \u001b[38;5;124;03m\"\"\"Fit the model and transform with the final estimator.\u001b[39;00m\n\u001b[0;32m    411\u001b[0m \n\u001b[0;32m    412\u001b[0m \u001b[38;5;124;03mFits all the transformers one after the other and transform the\u001b[39;00m\n\u001b[1;32m   (...)\u001b[0m\n\u001b[0;32m    434\u001b[0m \u001b[38;5;124;03m    Transformed samples.\u001b[39;00m\n\u001b[0;32m    435\u001b[0m \u001b[38;5;124;03m\"\"\"\u001b[39;00m\n\u001b[0;32m    436\u001b[0m fit_params_steps \u001b[38;5;241m=\u001b[39m \u001b[38;5;28mself\u001b[39m\u001b[38;5;241m.\u001b[39m_check_fit_params(\u001b[38;5;241m*\u001b[39m\u001b[38;5;241m*\u001b[39mfit_params)\n\u001b[1;32m--> 437\u001b[0m Xt \u001b[38;5;241m=\u001b[39m \u001b[38;5;28mself\u001b[39m\u001b[38;5;241m.\u001b[39m_fit(X, y, \u001b[38;5;241m*\u001b[39m\u001b[38;5;241m*\u001b[39mfit_params_steps)\n\u001b[0;32m    439\u001b[0m last_step \u001b[38;5;241m=\u001b[39m \u001b[38;5;28mself\u001b[39m\u001b[38;5;241m.\u001b[39m_final_estimator\n\u001b[0;32m    440\u001b[0m \u001b[38;5;28;01mwith\u001b[39;00m _print_elapsed_time(\u001b[38;5;124m\"\u001b[39m\u001b[38;5;124mPipeline\u001b[39m\u001b[38;5;124m\"\u001b[39m, \u001b[38;5;28mself\u001b[39m\u001b[38;5;241m.\u001b[39m_log_message(\u001b[38;5;28mlen\u001b[39m(\u001b[38;5;28mself\u001b[39m\u001b[38;5;241m.\u001b[39msteps) \u001b[38;5;241m-\u001b[39m \u001b[38;5;241m1\u001b[39m)):\n",
      "File \u001b[1;32m~\\anaconda3\\envs\\ml\\lib\\site-packages\\sklearn\\pipeline.py:339\u001b[0m, in \u001b[0;36mPipeline._fit\u001b[1;34m(self, X, y, **fit_params_steps)\u001b[0m\n\u001b[0;32m    336\u001b[0m \u001b[38;5;28;01mdef\u001b[39;00m \u001b[38;5;21m_fit\u001b[39m(\u001b[38;5;28mself\u001b[39m, X, y\u001b[38;5;241m=\u001b[39m\u001b[38;5;28;01mNone\u001b[39;00m, \u001b[38;5;241m*\u001b[39m\u001b[38;5;241m*\u001b[39mfit_params_steps):\n\u001b[0;32m    337\u001b[0m     \u001b[38;5;66;03m# shallow copy of steps - this should really be steps_\u001b[39;00m\n\u001b[0;32m    338\u001b[0m     \u001b[38;5;28mself\u001b[39m\u001b[38;5;241m.\u001b[39msteps \u001b[38;5;241m=\u001b[39m \u001b[38;5;28mlist\u001b[39m(\u001b[38;5;28mself\u001b[39m\u001b[38;5;241m.\u001b[39msteps)\n\u001b[1;32m--> 339\u001b[0m     \u001b[38;5;28;43mself\u001b[39;49m\u001b[38;5;241;43m.\u001b[39;49m\u001b[43m_validate_steps\u001b[49m\u001b[43m(\u001b[49m\u001b[43m)\u001b[49m\n\u001b[0;32m    340\u001b[0m     \u001b[38;5;66;03m# Setup the memory\u001b[39;00m\n\u001b[0;32m    341\u001b[0m     memory \u001b[38;5;241m=\u001b[39m check_memory(\u001b[38;5;28mself\u001b[39m\u001b[38;5;241m.\u001b[39mmemory)\n",
      "File \u001b[1;32m~\\anaconda3\\envs\\ml\\lib\\site-packages\\sklearn\\pipeline.py:243\u001b[0m, in \u001b[0;36mPipeline._validate_steps\u001b[1;34m(self)\u001b[0m\n\u001b[0;32m    237\u001b[0m \u001b[38;5;66;03m# We allow last estimator to be None as an identity transformation\u001b[39;00m\n\u001b[0;32m    238\u001b[0m \u001b[38;5;28;01mif\u001b[39;00m (\n\u001b[0;32m    239\u001b[0m     estimator \u001b[38;5;129;01mis\u001b[39;00m \u001b[38;5;129;01mnot\u001b[39;00m \u001b[38;5;28;01mNone\u001b[39;00m\n\u001b[0;32m    240\u001b[0m     \u001b[38;5;129;01mand\u001b[39;00m estimator \u001b[38;5;241m!=\u001b[39m \u001b[38;5;124m\"\u001b[39m\u001b[38;5;124mpassthrough\u001b[39m\u001b[38;5;124m\"\u001b[39m\n\u001b[0;32m    241\u001b[0m     \u001b[38;5;129;01mand\u001b[39;00m \u001b[38;5;129;01mnot\u001b[39;00m \u001b[38;5;28mhasattr\u001b[39m(estimator, \u001b[38;5;124m\"\u001b[39m\u001b[38;5;124mfit\u001b[39m\u001b[38;5;124m\"\u001b[39m)\n\u001b[0;32m    242\u001b[0m ):\n\u001b[1;32m--> 243\u001b[0m     \u001b[38;5;28;01mraise\u001b[39;00m \u001b[38;5;167;01mTypeError\u001b[39;00m(\n\u001b[0;32m    244\u001b[0m         \u001b[38;5;124m\"\u001b[39m\u001b[38;5;124mLast step of Pipeline should implement fit \u001b[39m\u001b[38;5;124m\"\u001b[39m\n\u001b[0;32m    245\u001b[0m         \u001b[38;5;124m\"\u001b[39m\u001b[38;5;124mor be the string \u001b[39m\u001b[38;5;124m'\u001b[39m\u001b[38;5;124mpassthrough\u001b[39m\u001b[38;5;124m'\u001b[39m\u001b[38;5;124m. \u001b[39m\u001b[38;5;124m\"\u001b[39m\n\u001b[0;32m    246\u001b[0m         \u001b[38;5;124m\"\u001b[39m\u001b[38;5;124m'\u001b[39m\u001b[38;5;132;01m%s\u001b[39;00m\u001b[38;5;124m'\u001b[39m\u001b[38;5;124m (type \u001b[39m\u001b[38;5;132;01m%s\u001b[39;00m\u001b[38;5;124m) doesn\u001b[39m\u001b[38;5;124m'\u001b[39m\u001b[38;5;124mt\u001b[39m\u001b[38;5;124m\"\u001b[39m \u001b[38;5;241m%\u001b[39m (estimator, \u001b[38;5;28mtype\u001b[39m(estimator))\n\u001b[0;32m    247\u001b[0m     )\n",
      "\u001b[1;31mTypeError\u001b[0m: Last step of Pipeline should implement fit or be the string 'passthrough'. '{' Gender': 'Gender'}' (type <class 'dict'>) doesn't"
     ]
    }
   ],
   "source": [
    "from sklearn.compose import make_column_transformer\n",
    "\n",
    "trans = make_column_transformer(\n",
    "    ('drop', ['Number of Followers', 'Users']),\n",
    "    (OrdinalEncoder(), [' Gender']),\n",
    "    (StandardScaler(), other_cols))\n",
    "\n",
    "# Define the pipeline\n",
    "full_pipeline = Pipeline([\n",
    "    ('transform', trans),\n",
    "    ('rename', {' Gender': 'Gender'})\n",
    "])\n",
    "\n",
    "\n",
    "\n",
    "x_train = full_pipeline.fit_transform(train)\n",
    "x_test = full_pipeline.fit_transform(test)"
   ]
  },
  {
   "cell_type": "code",
   "execution_count": null,
   "id": "54ca75c8",
   "metadata": {},
   "outputs": [],
   "source": []
  },
  {
   "cell_type": "code",
   "execution_count": null,
   "id": "d6072f80",
   "metadata": {},
   "outputs": [],
   "source": []
  },
  {
   "cell_type": "code",
   "execution_count": null,
   "id": "3f727011",
   "metadata": {},
   "outputs": [],
   "source": []
  },
  {
   "cell_type": "code",
   "execution_count": null,
   "id": "f2ae2c9e",
   "metadata": {},
   "outputs": [],
   "source": []
  },
  {
   "cell_type": "code",
   "execution_count": null,
   "id": "2431c4c2",
   "metadata": {},
   "outputs": [],
   "source": []
  }
 ],
 "metadata": {
  "kernelspec": {
   "display_name": "ml",
   "language": "python",
   "name": "ml"
  },
  "language_info": {
   "codemirror_mode": {
    "name": "ipython",
    "version": 3
   },
   "file_extension": ".py",
   "mimetype": "text/x-python",
   "name": "python",
   "nbconvert_exporter": "python",
   "pygments_lexer": "ipython3",
   "version": "3.9.16"
  }
 },
 "nbformat": 4,
 "nbformat_minor": 5
}
