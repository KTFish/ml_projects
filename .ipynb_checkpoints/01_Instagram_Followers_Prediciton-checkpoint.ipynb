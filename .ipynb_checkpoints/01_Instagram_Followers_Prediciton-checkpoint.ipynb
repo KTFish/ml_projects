{
 "cells": [
  {
   "cell_type": "markdown",
   "id": "80a3a527",
   "metadata": {},
   "source": [
    "# Project 1 - Prediction of Instagram Followers\n",
    "\n",
    "Creation of a conda environment an adding it to Jupyter Notebook.\n",
    "<div class=\"alert alert-block alert-success\" style=\"font-family: monospace\">\n",
    "conda create --name ml<br>\n",
    "conda activate ml<br>\n",
    "conda install -c anaconda ipykernel<br>\n",
    "python -m ipykernel install --user --name=ml<br>\n",
    "</div>"
   ]
  },
  {
   "cell_type": "code",
   "execution_count": 2,
   "id": "f6e9942f",
   "metadata": {},
   "outputs": [],
   "source": [
    "import pandas as pd\n",
    "import numpy as np\n",
    "\n",
    "import seaborn as sns\n",
    "import matplotlib.pyplot as plt\n",
    "\n",
    "# import tensorflow as tf"
   ]
  },
  {
   "cell_type": "markdown",
   "id": "9c65777e",
   "metadata": {},
   "source": [
    "# Data\n",
    "Source: https://www.kaggle.com/datasets/iabdulw/dynamics-of-instagram-users\n",
    "\n",
    "### About Dataset\n",
    "These two data sets are gathered from Instagram users who were chosen randomly.\n",
    "\n",
    "The Main data set encompasses data for 1K users including 500 men and 500 women. The Test data set encompasses data for 100 users including 50 men and 50 women.\n",
    "\n",
    "Data gathered for each user includes :\n",
    "\n",
    "- 1- number of posts\n",
    "\n",
    "- 2- number of followers\n",
    "\n",
    "- 3- number of followings\n",
    "\n",
    "- 4- number of likes for the tenth previous post\n",
    "\n",
    "- 5- number of likes for the eleventh previous post\n",
    "\n",
    "- 6- number of likes for the twelfth previous post\n",
    "\n",
    "- 7- number of self-presenting posts from nine previous posts\n",
    "\n",
    "- 8- gender\n",
    "\n",
    "source: https://zenodo.org/record/823283"
   ]
  },
  {
   "cell_type": "markdown",
   "id": "11278e13",
   "metadata": {},
   "source": [
    "### Exploring the data"
   ]
  },
  {
   "cell_type": "code",
   "execution_count": 18,
   "id": "357e8981",
   "metadata": {},
   "outputs": [],
   "source": [
    "df = pd.read_excel('./data/MainDataset- Instagram.xlsx')\n",
    "test = pd.read_excel('./data/TestDataset- Instagram.xlsx')"
   ]
  },
  {
   "cell_type": "code",
   "execution_count": 19,
   "id": "f59d2242",
   "metadata": {},
   "outputs": [
    {
     "data": {
      "text/html": [
       "<div>\n",
       "<style scoped>\n",
       "    .dataframe tbody tr th:only-of-type {\n",
       "        vertical-align: middle;\n",
       "    }\n",
       "\n",
       "    .dataframe tbody tr th {\n",
       "        vertical-align: top;\n",
       "    }\n",
       "\n",
       "    .dataframe thead th {\n",
       "        text-align: right;\n",
       "    }\n",
       "</style>\n",
       "<table border=\"1\" class=\"dataframe\">\n",
       "  <thead>\n",
       "    <tr style=\"text-align: right;\">\n",
       "      <th></th>\n",
       "      <th>Users</th>\n",
       "      <th>Number of Posts</th>\n",
       "      <th>Number of Followers</th>\n",
       "      <th>Number of Followings</th>\n",
       "      <th>Number of Likes for the Tenth Previous Post</th>\n",
       "      <th>Number of Likes for the Eleventh Previous Post</th>\n",
       "      <th>Number of Likes for the Twelfth Previous Post</th>\n",
       "      <th>Number of Self-Presenting Posts from Nine Previous Posts</th>\n",
       "      <th>Gender</th>\n",
       "    </tr>\n",
       "  </thead>\n",
       "  <tbody>\n",
       "    <tr>\n",
       "      <th>0</th>\n",
       "      <td>User-1</td>\n",
       "      <td>486</td>\n",
       "      <td>279</td>\n",
       "      <td>19</td>\n",
       "      <td>15</td>\n",
       "      <td>10</td>\n",
       "      <td>17</td>\n",
       "      <td>0</td>\n",
       "      <td>m</td>\n",
       "    </tr>\n",
       "    <tr>\n",
       "      <th>1</th>\n",
       "      <td>User-2</td>\n",
       "      <td>401</td>\n",
       "      <td>5509</td>\n",
       "      <td>342</td>\n",
       "      <td>360</td>\n",
       "      <td>440</td>\n",
       "      <td>428</td>\n",
       "      <td>0</td>\n",
       "      <td>f</td>\n",
       "    </tr>\n",
       "    <tr>\n",
       "      <th>2</th>\n",
       "      <td>User-3</td>\n",
       "      <td>463</td>\n",
       "      <td>453</td>\n",
       "      <td>293</td>\n",
       "      <td>65</td>\n",
       "      <td>68</td>\n",
       "      <td>149</td>\n",
       "      <td>4</td>\n",
       "      <td>f</td>\n",
       "    </tr>\n",
       "  </tbody>\n",
       "</table>\n",
       "</div>"
      ],
      "text/plain": [
       "    Users  Number of Posts  Number of Followers  Number of Followings  \\\n",
       "0  User-1              486                  279                    19   \n",
       "1  User-2              401                 5509                   342   \n",
       "2  User-3              463                  453                   293   \n",
       "\n",
       "   Number of Likes for the Tenth Previous Post  \\\n",
       "0                                           15   \n",
       "1                                          360   \n",
       "2                                           65   \n",
       "\n",
       "   Number of Likes for the Eleventh Previous Post  \\\n",
       "0                                              10   \n",
       "1                                             440   \n",
       "2                                              68   \n",
       "\n",
       "   Number of Likes for the Twelfth Previous Post  \\\n",
       "0                                             17   \n",
       "1                                            428   \n",
       "2                                            149   \n",
       "\n",
       "   Number of Self-Presenting Posts from Nine Previous Posts  Gender  \n",
       "0                                                  0              m  \n",
       "1                                                  0              f  \n",
       "2                                                  4              f  "
      ]
     },
     "execution_count": 19,
     "metadata": {},
     "output_type": "execute_result"
    }
   ],
   "source": [
    "df.head(3)"
   ]
  },
  {
   "cell_type": "code",
   "execution_count": 24,
   "id": "0e2b738a",
   "metadata": {},
   "outputs": [],
   "source": [
    "df.rename({' Gender':'Gender'}, axis=1, inplace=True)"
   ]
  },
  {
   "cell_type": "code",
   "execution_count": 25,
   "id": "086ff612",
   "metadata": {},
   "outputs": [
    {
     "data": {
      "text/plain": [
       "Index(['Users', 'Number of Posts', 'Number of Followers',\n",
       "       'Number of Followings', 'Number of Likes for the Tenth Previous Post',\n",
       "       'Number of Likes for the Eleventh Previous Post',\n",
       "       'Number of Likes for the Twelfth Previous Post',\n",
       "       'Number of Self-Presenting Posts from Nine Previous Posts', 'Gender'],\n",
       "      dtype='object')"
      ]
     },
     "execution_count": 25,
     "metadata": {},
     "output_type": "execute_result"
    }
   ],
   "source": [
    "df.columns"
   ]
  },
  {
   "cell_type": "code",
   "execution_count": 26,
   "id": "dc6080fd",
   "metadata": {},
   "outputs": [
    {
     "name": "stdout",
     "output_type": "stream",
     "text": [
      "<class 'pandas.core.frame.DataFrame'>\n",
      "RangeIndex: 1000 entries, 0 to 999\n",
      "Data columns (total 9 columns):\n",
      " #   Column                                                    Non-Null Count  Dtype \n",
      "---  ------                                                    --------------  ----- \n",
      " 0   Users                                                     1000 non-null   object\n",
      " 1   Number of Posts                                           1000 non-null   int64 \n",
      " 2   Number of Followers                                       1000 non-null   int64 \n",
      " 3   Number of Followings                                      1000 non-null   int64 \n",
      " 4   Number of Likes for the Tenth Previous Post               1000 non-null   int64 \n",
      " 5   Number of Likes for the Eleventh Previous Post            1000 non-null   int64 \n",
      " 6   Number of Likes for the Twelfth Previous Post             1000 non-null   int64 \n",
      " 7   Number of Self-Presenting Posts from Nine Previous Posts  1000 non-null   int64 \n",
      " 8   Gender                                                    1000 non-null   object\n",
      "dtypes: int64(7), object(2)\n",
      "memory usage: 70.4+ KB\n"
     ]
    }
   ],
   "source": [
    "df.info()"
   ]
  },
  {
   "cell_type": "code",
   "execution_count": 27,
   "id": "ca064ba5",
   "metadata": {},
   "outputs": [
    {
     "data": {
      "text/plain": [
       "<Axes: xlabel='Gender', ylabel='Number of Followers'>"
      ]
     },
     "execution_count": 27,
     "metadata": {},
     "output_type": "execute_result"
    },
    {
     "data": {
      "image/png": "[encoded data removed]",
      "text/plain": [
       "<Figure size 640x480 with 1 Axes>"
      ]
     },
     "metadata": {},
     "output_type": "display_data"
    }
   ],
   "source": [
    "sns.barplot(x='Gender', y='Number of Followers', data=df)"
   ]
  },
  {
   "cell_type": "code",
   "execution_count": 28,
   "id": "018372ec",
   "metadata": {},
   "outputs": [
    {
     "data": {
      "text/plain": [
       "<Axes: xlabel='Gender', ylabel='Number of Posts'>"
      ]
     },
     "execution_count": 28,
     "metadata": {},
     "output_type": "execute_result"
    },
    {
     "data": {
      "image/png": "[encoded data removed]",
      "text/plain": [
       "<Figure size 640x480 with 1 Axes>"
      ]
     },
     "metadata": {},
     "output_type": "display_data"
    }
   ],
   "source": [
    "sns.barplot(x='Gender', y='Number of Posts', data=df)"
   ]
  },
  {
   "cell_type": "code",
   "execution_count": 29,
   "id": "96253c4e",
   "metadata": {},
   "outputs": [
    {
     "data": {
      "text/plain": [
       "<Axes: xlabel='Gender', ylabel='Number of Likes for the Twelfth Previous Post'>"
      ]
     },
     "execution_count": 29,
     "metadata": {},
     "output_type": "execute_result"
    },
    {
     "data": {
      "image/png": "[encoded data removed]",
      "text/plain": [
       "<Figure size 640x480 with 1 Axes>"
      ]
     },
     "metadata": {},
     "output_type": "display_data"
    }
   ],
   "source": [
    "sns.barplot(x='Gender', y='Number of Likes for the Twelfth Previous Post', data=df)"
   ]
  },
  {
   "cell_type": "markdown",
   "id": "bcef4a24",
   "metadata": {},
   "source": [
    "On the first look we can see that the number of followers is **very simmilar for each sex**, however **females tend to share more posts**."
   ]
  },
  {
   "cell_type": "markdown",
   "id": "b0b79375",
   "metadata": {},
   "source": [
    "### Preparation for learning"
   ]
  },
  {
   "cell_type": "code",
   "execution_count": 31,
   "id": "a4f9567c",
   "metadata": {},
   "outputs": [],
   "source": [
    "DROP_COLS = ['Users', 'Number of Followers']\n",
    "\n",
    "y = df['Number of Followers']\n",
    "x = df.drop(DROP_COLS, axis=1)"
   ]
  },
  {
   "cell_type": "code",
   "execution_count": 32,
   "id": "c9ad5b0f",
   "metadata": {},
   "outputs": [
    {
     "data": {
      "text/html": [
       "<div>\n",
       "<style scoped>\n",
       "    .dataframe tbody tr th:only-of-type {\n",
       "        vertical-align: middle;\n",
       "    }\n",
       "\n",
       "    .dataframe tbody tr th {\n",
       "        vertical-align: top;\n",
       "    }\n",
       "\n",
       "    .dataframe thead th {\n",
       "        text-align: right;\n",
       "    }\n",
       "</style>\n",
       "<table border=\"1\" class=\"dataframe\">\n",
       "  <thead>\n",
       "    <tr style=\"text-align: right;\">\n",
       "      <th></th>\n",
       "      <th>Number of Posts</th>\n",
       "      <th>Number of Followings</th>\n",
       "      <th>Number of Likes for the Tenth Previous Post</th>\n",
       "      <th>Number of Likes for the Eleventh Previous Post</th>\n",
       "      <th>Number of Likes for the Twelfth Previous Post</th>\n",
       "      <th>Number of Self-Presenting Posts from Nine Previous Posts</th>\n",
       "      <th>Gender</th>\n",
       "    </tr>\n",
       "  </thead>\n",
       "  <tbody>\n",
       "    <tr>\n",
       "      <th>0</th>\n",
       "      <td>486</td>\n",
       "      <td>19</td>\n",
       "      <td>15</td>\n",
       "      <td>10</td>\n",
       "      <td>17</td>\n",
       "      <td>0</td>\n",
       "      <td>m</td>\n",
       "    </tr>\n",
       "    <tr>\n",
       "      <th>1</th>\n",
       "      <td>401</td>\n",
       "      <td>342</td>\n",
       "      <td>360</td>\n",
       "      <td>440</td>\n",
       "      <td>428</td>\n",
       "      <td>0</td>\n",
       "      <td>f</td>\n",
       "    </tr>\n",
       "    <tr>\n",
       "      <th>2</th>\n",
       "      <td>463</td>\n",
       "      <td>293</td>\n",
       "      <td>65</td>\n",
       "      <td>68</td>\n",
       "      <td>149</td>\n",
       "      <td>4</td>\n",
       "      <td>f</td>\n",
       "    </tr>\n",
       "    <tr>\n",
       "      <th>3</th>\n",
       "      <td>154</td>\n",
       "      <td>1477</td>\n",
       "      <td>53</td>\n",
       "      <td>22</td>\n",
       "      <td>35</td>\n",
       "      <td>3</td>\n",
       "      <td>m</td>\n",
       "    </tr>\n",
       "    <tr>\n",
       "      <th>4</th>\n",
       "      <td>786</td>\n",
       "      <td>421</td>\n",
       "      <td>623</td>\n",
       "      <td>1299</td>\n",
       "      <td>544</td>\n",
       "      <td>0</td>\n",
       "      <td>m</td>\n",
       "    </tr>\n",
       "    <tr>\n",
       "      <th>...</th>\n",
       "      <td>...</td>\n",
       "      <td>...</td>\n",
       "      <td>...</td>\n",
       "      <td>...</td>\n",
       "      <td>...</td>\n",
       "      <td>...</td>\n",
       "      <td>...</td>\n",
       "    </tr>\n",
       "    <tr>\n",
       "      <th>995</th>\n",
       "      <td>2599</td>\n",
       "      <td>7300</td>\n",
       "      <td>19</td>\n",
       "      <td>55</td>\n",
       "      <td>44</td>\n",
       "      <td>0</td>\n",
       "      <td>f</td>\n",
       "    </tr>\n",
       "    <tr>\n",
       "      <th>996</th>\n",
       "      <td>2284</td>\n",
       "      <td>2978</td>\n",
       "      <td>160</td>\n",
       "      <td>164</td>\n",
       "      <td>200</td>\n",
       "      <td>6</td>\n",
       "      <td>f</td>\n",
       "    </tr>\n",
       "    <tr>\n",
       "      <th>997</th>\n",
       "      <td>164</td>\n",
       "      <td>6920</td>\n",
       "      <td>37</td>\n",
       "      <td>29</td>\n",
       "      <td>48</td>\n",
       "      <td>7</td>\n",
       "      <td>f</td>\n",
       "    </tr>\n",
       "    <tr>\n",
       "      <th>998</th>\n",
       "      <td>89</td>\n",
       "      <td>715</td>\n",
       "      <td>30</td>\n",
       "      <td>6</td>\n",
       "      <td>18</td>\n",
       "      <td>4</td>\n",
       "      <td>f</td>\n",
       "    </tr>\n",
       "    <tr>\n",
       "      <th>999</th>\n",
       "      <td>83</td>\n",
       "      <td>4997</td>\n",
       "      <td>58</td>\n",
       "      <td>32</td>\n",
       "      <td>45</td>\n",
       "      <td>5</td>\n",
       "      <td>f</td>\n",
       "    </tr>\n",
       "  </tbody>\n",
       "</table>\n",
       "<p>1000 rows × 7 columns</p>\n",
       "</div>"
      ],
      "text/plain": [
       "     Number of Posts  Number of Followings  \\\n",
       "0                486                    19   \n",
       "1                401                   342   \n",
       "2                463                   293   \n",
       "3                154                  1477   \n",
       "4                786                   421   \n",
       "..               ...                   ...   \n",
       "995             2599                  7300   \n",
       "996             2284                  2978   \n",
       "997              164                  6920   \n",
       "998               89                   715   \n",
       "999               83                  4997   \n",
       "\n",
       "     Number of Likes for the Tenth Previous Post  \\\n",
       "0                                             15   \n",
       "1                                            360   \n",
       "2                                             65   \n",
       "3                                             53   \n",
       "4                                            623   \n",
       "..                                           ...   \n",
       "995                                           19   \n",
       "996                                          160   \n",
       "997                                           37   \n",
       "998                                           30   \n",
       "999                                           58   \n",
       "\n",
       "     Number of Likes for the Eleventh Previous Post  \\\n",
       "0                                                10   \n",
       "1                                               440   \n",
       "2                                                68   \n",
       "3                                                22   \n",
       "4                                              1299   \n",
       "..                                              ...   \n",
       "995                                              55   \n",
       "996                                             164   \n",
       "997                                              29   \n",
       "998                                               6   \n",
       "999                                              32   \n",
       "\n",
       "     Number of Likes for the Twelfth Previous Post  \\\n",
       "0                                               17   \n",
       "1                                              428   \n",
       "2                                              149   \n",
       "3                                               35   \n",
       "4                                              544   \n",
       "..                                             ...   \n",
       "995                                             44   \n",
       "996                                            200   \n",
       "997                                             48   \n",
       "998                                             18   \n",
       "999                                             45   \n",
       "\n",
       "     Number of Self-Presenting Posts from Nine Previous Posts Gender  \n",
       "0                                                    0             m  \n",
       "1                                                    0             f  \n",
       "2                                                    4             f  \n",
       "3                                                    3             m  \n",
       "4                                                    0             m  \n",
       "..                                                 ...           ...  \n",
       "995                                                  0             f  \n",
       "996                                                  6             f  \n",
       "997                                                  7             f  \n",
       "998                                                  4             f  \n",
       "999                                                  5             f  \n",
       "\n",
       "[1000 rows x 7 columns]"
      ]
     },
     "execution_count": 32,
     "metadata": {},
     "output_type": "execute_result"
    }
   ],
   "source": [
    "x"
   ]
  },
  {
   "cell_type": "code",
   "execution_count": null,
   "id": "037b81f3",
   "metadata": {},
   "outputs": [],
   "source": []
  }
 ],
 "metadata": {
  "kernelspec": {
   "display_name": "ml",
   "language": "python",
   "name": "ml"
  },
  "language_info": {
   "codemirror_mode": {
    "name": "ipython",
    "version": 3
   },
   "file_extension": ".py",
   "mimetype": "text/x-python",
   "name": "python",
   "nbconvert_exporter": "python",
   "pygments_lexer": "ipython3",
   "version": "3.9.16"
  }
 },
 "nbformat": 4,
 "nbformat_minor": 5
}
