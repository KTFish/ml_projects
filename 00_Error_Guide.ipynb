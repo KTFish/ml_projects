{
 "cells": [
  {
   "cell_type": "markdown",
   "id": "3fd112b6",
   "metadata": {},
   "source": [
    "# Error Guide\n",
    "\n",
    "\n",
    "\n",
    "### Import Errors\n",
    "<div class=\"alert alert-block alert-danger\" style=\"font-family: monospace\">\n",
    "<b>ImportError: Missing optional dependency 'openpyxl'.  Use pip or conda to install openpyxl.</b><br>conda install openpyxl\n",
    "</div>"
   ]
  },
  {
   "cell_type": "code",
   "execution_count": null,
   "id": "637d26b8",
   "metadata": {},
   "outputs": [],
   "source": []
  }
 ],
 "metadata": {
  "kernelspec": {
   "display_name": "ml",
   "language": "python",
   "name": "ml"
  },
  "language_info": {
   "codemirror_mode": {
    "name": "ipython",
    "version": 3
   },
   "file_extension": ".py",
   "mimetype": "text/x-python",
   "name": "python",
   "nbconvert_exporter": "python",
   "pygments_lexer": "ipython3",
   "version": "3.9.16"
  }
 },
 "nbformat": 4,
 "nbformat_minor": 5
}
